{
 "cells": [
  {
   "cell_type": "code",
   "execution_count": 1,
   "metadata": {},
   "outputs": [],
   "source": [
    "from json import dump"
   ]
  },
  {
   "cell_type": "code",
   "execution_count": 2,
   "metadata": {},
   "outputs": [],
   "source": [
    "def make_list(file_name :str) -> list :\n",
    "    set_obj = set()\n",
    "    with open(file_name) as file :\n",
    "        lst = file.read().split(\"\\n\")\n",
    "        for i in lst :\n",
    "            str = i.strip().upper()\n",
    "            if str.__len__() != 0 :\n",
    "                set_obj.add(str)\n",
    "    return sorted(set_obj)"
   ]
  },
  {
   "cell_type": "code",
   "execution_count": 3,
   "metadata": {},
   "outputs": [],
   "source": [
    "lst_file_names = [\"Currencies.txt\",\n",
    "                \"Datesandnumbers.txt\",\n",
    "                \"Generic.txt\",\n",
    "                \"Genericlong.txt\",\n",
    "                \"Geographic.txt\",\n",
    "                \"Names.txt\",\n",
    "                \"negative-words.txt\",\n",
    "                \"positive-words.txt\"]\n"
   ]
  },
  {
   "cell_type": "code",
   "execution_count": 4,
   "metadata": {},
   "outputs": [],
   "source": [
    "json_obj = dict()\n",
    "for i in lst_file_names :\n",
    "    file_name = \"./support_file/\"+i\n",
    "    json_obj[i[:-4]] = make_list(file_name)"
   ]
  },
  {
   "cell_type": "code",
   "execution_count": 5,
   "metadata": {},
   "outputs": [
    {
     "data": {
      "text/plain": [
       "dict_keys(['Currencies', 'Datesandnumbers', 'Generic', 'Genericlong', 'Geographic', 'Names', 'negative-words', 'positive-words'])"
      ]
     },
     "execution_count": 5,
     "metadata": {},
     "output_type": "execute_result"
    }
   ],
   "source": [
    "json_obj.keys()"
   ]
  },
  {
   "cell_type": "code",
   "execution_count": 6,
   "metadata": {},
   "outputs": [],
   "source": [
    "with open(\"Corrector.json\", \"w\") as file :\n",
    "    dump(json_obj,file,indent=4)"
   ]
  },
  {
   "cell_type": "code",
   "execution_count": null,
   "metadata": {},
   "outputs": [],
   "source": []
  }
 ],
 "metadata": {
  "kernelspec": {
   "display_name": "Python 3",
   "language": "python",
   "name": "python3"
  },
  "language_info": {
   "codemirror_mode": {
    "name": "ipython",
    "version": 3
   },
   "file_extension": ".py",
   "mimetype": "text/x-python",
   "name": "python",
   "nbconvert_exporter": "python",
   "pygments_lexer": "ipython3",
   "version": "3.11.5"
  }
 },
 "nbformat": 4,
 "nbformat_minor": 2
}
